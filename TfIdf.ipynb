{
 "cells": [
  {
   "cell_type": "markdown",
   "metadata": {},
   "source": [
    "TF（Term Frequency）表示某個關鍵詞在整篇文章中出現的頻率。"
   ]
  },
  {
   "cell_type": "markdown",
   "metadata": {},
   "source": [
    "IDF（InversDocument Frequency）表示計算倒文本頻率。文本頻率是指某個關鍵詞在整個語料所有文章中出現的次數。"
   ]
  },
  {
   "cell_type": "markdown",
   "metadata": {},
   "source": [
    "# 計算詞頻"
   ]
  },
  {
   "cell_type": "code",
   "execution_count": 6,
   "metadata": {
    "collapsed": false
   },
   "outputs": [
    {
     "name": "stdout",
     "output_type": "stream",
     "text": [
      "['and', 'document', 'first', 'is', 'one', 'second', 'the', 'third', 'this']\n",
      "[[0 1 1 1 0 0 1 0 1]\n",
      " [0 1 0 1 0 2 1 0 1]\n",
      " [1 0 0 0 1 0 1 1 0]\n",
      " [0 1 1 1 0 0 1 0 1]]\n"
     ]
    }
   ],
   "source": [
    "\n",
    "from  sklearn.feature_extraction.text  import  CountVectorizer  \n",
    "  \n",
    "#語料  \n",
    "corpus = [  \n",
    "    'This is the first document.' ,  \n",
    "    'This is the second second document.' ,  \n",
    "    'And the third one.' ,  \n",
    "    'Is this the first document?' ,  \n",
    "]  \n",
    "#將文本中的詞語轉換為詞頻矩陣  \n",
    "vectorizer = CountVectorizer()  \n",
    "#計算個詞語出現的次數  \n",
    "X = vectorizer.fit_transform(corpus)  \n",
    "#獲取詞袋中所有文本關鍵詞  \n",
    "word = vectorizer.get_feature_names()  \n",
    "print(word)  \n",
    "#查看詞頻結果  \n",
    "print(X.toarray())  "
   ]
  },
  {
   "cell_type": "markdown",
   "metadata": {},
   "source": [
    "# 計算Tf-Idf"
   ]
  },
  {
   "cell_type": "code",
   "execution_count": 10,
   "metadata": {
    "collapsed": false
   },
   "outputs": [
    {
     "name": "stdout",
     "output_type": "stream",
     "text": [
      "[[ 0.          0.43877674  0.54197657  0.43877674  0.          0.\n",
      "   0.35872874  0.          0.43877674]\n",
      " [ 0.          0.27230147  0.          0.27230147  0.          0.85322574\n",
      "   0.22262429  0.          0.27230147]\n",
      " [ 0.55280532  0.          0.          0.          0.55280532  0.\n",
      "   0.28847675  0.55280532  0.        ]\n",
      " [ 0.          0.43877674  0.54197657  0.43877674  0.          0.\n",
      "   0.35872874  0.          0.43877674]]\n"
     ]
    }
   ],
   "source": [
    "from  sklearn.feature_extraction.text  import  TfidfTransformer  \n",
    "  \n",
    "#  \n",
    "transformer = TfidfTransformer()  \n",
    "\n",
    " \n",
    "#將詞頻矩陣X統計成TF-IDF值  \n",
    "tfidf = transformer.fit_transform(X)  \n",
    "#查看數據結構 tfidf[i][j]表示i類文本中的tf-idf權重  \n",
    "print(tfidf.toarray())"
   ]
  },
  {
   "cell_type": "markdown",
   "metadata": {},
   "source": [
    "# 計算文件相似度"
   ]
  },
  {
   "cell_type": "code",
   "execution_count": 14,
   "metadata": {
    "collapsed": false
   },
   "outputs": [
    {
     "data": {
      "text/plain": [
       "array([[ 1.        ,  0.43830038,  0.1034849 ,  1.        ]])"
      ]
     },
     "execution_count": 14,
     "metadata": {},
     "output_type": "execute_result"
    }
   ],
   "source": [
    "from sklearn.metrics.pairwise import cosine_similarity\n",
    "cosine_similarity(tfidf[0:1], tfidf)"
   ]
  },
  {
   "cell_type": "code",
   "execution_count": null,
   "metadata": {
    "collapsed": true
   },
   "outputs": [],
   "source": []
  }
 ],
 "metadata": {
  "kernelspec": {
   "display_name": "Python 3",
   "language": "python",
   "name": "python3"
  },
  "language_info": {
   "codemirror_mode": {
    "name": "ipython",
    "version": 3
   },
   "file_extension": ".py",
   "mimetype": "text/x-python",
   "name": "python",
   "nbconvert_exporter": "python",
   "pygments_lexer": "ipython3",
   "version": "3.6.0"
  }
 },
 "nbformat": 4,
 "nbformat_minor": 2
}
