{
 "cells": [
  {
   "cell_type": "markdown",
   "metadata": {},
   "source": [
    "## 高斯單純貝氏模型"
   ]
  },
  {
   "cell_type": "code",
   "execution_count": 1,
   "metadata": {
    "collapsed": true
   },
   "outputs": [],
   "source": [
    "from sklearn.naive_bayes import GaussianNB"
   ]
  },
  {
   "cell_type": "code",
   "execution_count": 2,
   "metadata": {
    "collapsed": true
   },
   "outputs": [],
   "source": [
    "# 0:晴 1:陰 2:降雨 3:多雲\n",
    "data_table = [[\"date\", \"weather\"],\n",
    "              [1, 0],\n",
    "              [2, 1],\n",
    "              [3, 2],\n",
    "              [4, 1],\n",
    "              [5, 2],\n",
    "              [6, 0],\n",
    "              [7, 0],\n",
    "              [8, 3],\n",
    "              [9, 1],\n",
    "              [10, 1]\n",
    "]"
   ]
  },
  {
   "cell_type": "code",
   "execution_count": 3,
   "metadata": {
    "collapsed": true
   },
   "outputs": [],
   "source": [
    "## 當天的天氣\n",
    "X = [[0],[1],[2],[1],[2],[0],[0],[3],[1]]"
   ]
  },
  {
   "cell_type": "code",
   "execution_count": 4,
   "metadata": {
    "collapsed": true
   },
   "outputs": [],
   "source": [
    "## 當天天氣對應後一天的天氣\n",
    "y = [1, 2, 1, 2, 0, 0, 3, 1, 1]"
   ]
  },
  {
   "cell_type": "code",
   "execution_count": 5,
   "metadata": {},
   "outputs": [
    {
     "name": "stdout",
     "output_type": "stream",
     "text": [
      "[2]\n"
     ]
    }
   ],
   "source": [
    "## 把訓練資料和對應的分類放進分類器中進行訓練\n",
    "clf = GaussianNB().fit(X, y)\n",
    "p = [[1]]\n",
    "print(clf.predict(p))"
   ]
  },
  {
   "cell_type": "code",
   "execution_count": 6,
   "metadata": {
    "collapsed": true
   },
   "outputs": [],
   "source": [
    "## 基因片段A  基因片段B  高血壓 膽結石\n",
    "## 1:是      0:否\n",
    "data_table = [\n",
    "    [1, 1, 1, 0],\n",
    "    [0, 0, 0, 1],\n",
    "    [0, 1, 0, 0],\n",
    "    [1, 0, 0, 0],\n",
    "    [1, 1, 0, 1],\n",
    "    [1, 0, 0, 1],\n",
    "    [0, 1, 1, 1],\n",
    "    [0, 0, 0, 0],\n",
    "    [1, 0, 1, 0],\n",
    "    [0, 1, 0, 1]\n",
    "]\n",
    "## 基因片段\n",
    "X = [[1, 1], [0, 0], [0, 1], [1, 0], [1, 1], [1, 0], [0, 1], [0, 0], [1, 0], [0, 1]]\n"
   ]
  },
  {
   "cell_type": "code",
   "execution_count": 7,
   "metadata": {
    "collapsed": true
   },
   "outputs": [],
   "source": [
    "##高血壓\n",
    "y1 = [1, 0, 0, 0, 0, 0, 1, 0, 1, 0]"
   ]
  },
  {
   "cell_type": "code",
   "execution_count": 8,
   "metadata": {
    "collapsed": true
   },
   "outputs": [],
   "source": [
    "##訓練\n",
    "clf = GaussianNB().fit(X, y1)"
   ]
  },
  {
   "cell_type": "code",
   "execution_count": 9,
   "metadata": {},
   "outputs": [
    {
     "name": "stdout",
     "output_type": "stream",
     "text": [
      "[0]\n"
     ]
    }
   ],
   "source": [
    "##預測\n",
    "p = [[1, 0]]\n",
    "print(clf.predict(p))\n",
    "##結果為0"
   ]
  },
  {
   "cell_type": "code",
   "execution_count": 10,
   "metadata": {
    "collapsed": true
   },
   "outputs": [],
   "source": [
    "## 膽結石\n",
    "y2 = [0, 1, 0, 0, 1, 1, 1, 0, 0, 1]"
   ]
  },
  {
   "cell_type": "code",
   "execution_count": 11,
   "metadata": {
    "collapsed": true
   },
   "outputs": [],
   "source": [
    "##訓練\n",
    "clf = GaussianNB().fit(X, y2)"
   ]
  },
  {
   "cell_type": "code",
   "execution_count": 12,
   "metadata": {},
   "outputs": [
    {
     "name": "stdout",
     "output_type": "stream",
     "text": [
      "[0]\n"
     ]
    }
   ],
   "source": [
    "##預測\n",
    "p = [[1, 0]]\n",
    "print(clf.predict(p))\n",
    "##結果為0"
   ]
  },
  {
   "cell_type": "markdown",
   "metadata": {},
   "source": [
    "## 決策數"
   ]
  },
  {
   "cell_type": "code",
   "execution_count": 17,
   "metadata": {
    "collapsed": true
   },
   "outputs": [],
   "source": [
    "import math"
   ]
  },
  {
   "cell_type": "code",
   "execution_count": 13,
   "metadata": {
    "collapsed": true
   },
   "outputs": [],
   "source": [
    "## 學力分類中大專、本科、碩士占比\n",
    "education = (2.0 / 12, 5.0 / 12, 5.0 / 12)\n",
    "## 大專分類中相親占比\n",
    "junior_college = (1.0 / 2, 1.0 / 2)\n",
    "## 本科分類中相新占比\n",
    "undergraduate = (3.0 / 5, 2.0 / 5)\n",
    "## 碩士分類中相親占比\n",
    "master = (4.0 / 5, 1.0 / 5)\n",
    "## 學歷各分類中相親占比\n",
    "date_per = (junior_college, undergraduate, master)"
   ]
  },
  {
   "cell_type": "code",
   "execution_count": 18,
   "metadata": {},
   "outputs": [],
   "source": [
    "## 「相親」欄位劃分規則下的熵\n",
    "def info_date(p):\n",
    "    info = 0\n",
    "    for v in p:\n",
    "        info += v * math.log(v, 2)\n",
    "    return info"
   ]
  },
  {
   "cell_type": "code",
   "execution_count": 19,
   "metadata": {
    "collapsed": true
   },
   "outputs": [],
   "source": [
    "## 使用「學歷」欄位劃分規則下的熵\n",
    "def infoA():\n",
    "    info = 0\n",
    "    for i in range(len(education)):\n",
    "        info += -education[i] * info_date(date_per[i])\n",
    "    return info"
   ]
  },
  {
   "cell_type": "code",
   "execution_count": 20,
   "metadata": {},
   "outputs": [
    {
     "name": "stdout",
     "output_type": "stream",
     "text": [
      "0.8720327872258462\n"
     ]
    }
   ],
   "source": [
    "print(infoA())\n",
    "##結果為0.872 032 787 226"
   ]
  },
  {
   "cell_type": "markdown",
   "metadata": {},
   "source": [
    "## 「年齡」欄位分割:\n"
   ]
  },
  {
   "cell_type": "code",
   "execution_count": 22,
   "metadata": {
    "collapsed": true
   },
   "outputs": [],
   "source": [
    "##年齡\n",
    "age = [25, 25, 28, 28, 29, 30, 33, 34, 35, 36, 40, 46]"
   ]
  },
  {
   "cell_type": "code",
   "execution_count": 24,
   "metadata": {
    "collapsed": true
   },
   "outputs": [],
   "source": [
    "## 是否相親 1:是  0:否\n",
    "date = [0, 1, 1, 0, 1, 1, 1, 1, 1, 0, 0, 0]"
   ]
  },
  {
   "cell_type": "code",
   "execution_count": 25,
   "metadata": {
    "collapsed": true
   },
   "outputs": [],
   "source": [
    "## 這裡從28、29中間切開\n",
    "## 左、右分類中的數量占總數的百分比\n",
    "split_per = (4.0 / 12, 8.0 / 12)"
   ]
  },
  {
   "cell_type": "code",
   "execution_count": 26,
   "metadata": {
    "collapsed": true
   },
   "outputs": [],
   "source": [
    "## 左邊分類中相親占比\n",
    "date_left = (1.0 / 2, 1.0 / 2)"
   ]
  },
  {
   "cell_type": "code",
   "execution_count": 27,
   "metadata": {
    "collapsed": true
   },
   "outputs": [],
   "source": [
    "## 右邊分類中相親占比\n",
    "date_right = (5.0 / 8, 3.0 / 8)"
   ]
  },
  {
   "cell_type": "code",
   "execution_count": 28,
   "metadata": {
    "collapsed": true
   },
   "outputs": [],
   "source": [
    "## 左、右各分類中相親占比\n",
    "date_per = (date_left, date_right)"
   ]
  },
  {
   "cell_type": "code",
   "execution_count": 29,
   "metadata": {
    "collapsed": true
   },
   "outputs": [],
   "source": [
    "## 「相親」欄位劃分規則下的熵\n",
    "def info_date(p):\n",
    "    info = 0\n",
    "    for v in p:\n",
    "        info += v * math.log(v, 2)\n",
    "    return info"
   ]
  },
  {
   "cell_type": "code",
   "execution_count": 30,
   "metadata": {
    "collapsed": true
   },
   "outputs": [],
   "source": [
    "## 左、右分類劃分規則下的熵\n",
    "def infoA():\n",
    "    info = 0\n",
    "    for i in range(len(split_per)):\n",
    "        info += -split_per[i] * info_date(date_per[i])\n",
    "    return info"
   ]
  },
  {
   "cell_type": "code",
   "execution_count": 31,
   "metadata": {},
   "outputs": [
    {
     "name": "stdout",
     "output_type": "stream",
     "text": [
      "0.9696226686166431\n"
     ]
    }
   ],
   "source": [
    "print(infoA())\n",
    "## 結果是0.969 622 668 617"
   ]
  },
  {
   "cell_type": "markdown",
   "metadata": {},
   "source": [
    "## 隨機森林"
   ]
  },
  {
   "cell_type": "code",
   "execution_count": 32,
   "metadata": {
    "collapsed": true
   },
   "outputs": [],
   "source": [
    "from sklearn.ensemble import RandomForestClassifier"
   ]
  },
  {
   "cell_type": "code",
   "execution_count": 33,
   "metadata": {
    "collapsed": true
   },
   "outputs": [],
   "source": [
    "## 學歷  0:大專  2:碩士 3:本科\n",
    "## \"年齡\", \"身高\", \"年收入\", \"學歷\"\n",
    "X = [\n",
    "    [25, 179, 15, 0],\n",
    "    [33, 190, 19, 0],\n",
    "    [28, 180, 18, 2],\n",
    "    [25, 178, 18, 2],\n",
    "    [46, 177, 100, 2],\n",
    "    [40, 170, 70, 1],\n",
    "    [34, 174, 20, 2],\n",
    "    [36, 181, 55, 1],\n",
    "    [35, 170, 25, 2],\n",
    "    [30, 180, 35, 1],\n",
    "    [28, 174, 30, 1],\n",
    "    [29, 176, 36, 1]\n",
    "]"
   ]
  },
  {
   "cell_type": "code",
   "execution_count": 34,
   "metadata": {
    "collapsed": true
   },
   "outputs": [],
   "source": [
    "## 是否能約會 0:N 1:Y\n",
    "y = [0, 1, 1, 1, 0, 0, 1, 0, 1, 1, 0, 1]"
   ]
  },
  {
   "cell_type": "code",
   "execution_count": 35,
   "metadata": {
    "collapsed": true
   },
   "outputs": [],
   "source": [
    "## 現在把訓練資料和對應的分類放入分類器中進行訓練\n",
    "clf = RandomForestClassifier().fit(X, y)"
   ]
  },
  {
   "cell_type": "code",
   "execution_count": 36,
   "metadata": {},
   "outputs": [
    {
     "data": {
      "text/plain": [
       "array([1])"
      ]
     },
     "execution_count": 36,
     "metadata": {},
     "output_type": "execute_result"
    }
   ],
   "source": [
    "## 預測下面此人是否能約會\n",
    "p = [[28, 180, 18, 2]]\n",
    "clf.predict(p)\n",
    "##輸出結果是[1] 是"
   ]
  },
  {
   "cell_type": "markdown",
   "metadata": {},
   "source": [
    "## 維特比演算法"
   ]
  },
  {
   "cell_type": "code",
   "execution_count": 37,
   "metadata": {
    "collapsed": true
   },
   "outputs": [],
   "source": [
    "## coding = utf-8\n",
    "import numpy as np"
   ]
  },
  {
   "cell_type": "code",
   "execution_count": 38,
   "metadata": {
    "collapsed": true
   },
   "outputs": [],
   "source": [
    "jin = [\"近\", \"斤\", \"今\", \"金\", \"盡\"]\n",
    "jin_per = [0.3, 0.2, 0.1, 0.06, 0.03]"
   ]
  },
  {
   "cell_type": "code",
   "execution_count": 39,
   "metadata": {
    "collapsed": true
   },
   "outputs": [],
   "source": [
    "jintian = [\"天\", \"填\", \"田\", \"甜\", \"添\"]\n",
    "jintian_per = [\n",
    "    [0.001, 0.001, 0.001, 0.001, 0.001],\n",
    "    [0.001, 0.001, 0.001, 0.001, 0.001],\n",
    "    [0.990, 0.001, 0.001, 0.001, 0.001],\n",
    "    [0.002, 0.001, 0.850, 0.001, 0.001],\n",
    "    [0.001, 0.001, 0.001, 0.001, 0.001]\n",
    "]"
   ]
  },
  {
   "cell_type": "code",
   "execution_count": 40,
   "metadata": {
    "collapsed": true
   },
   "outputs": [],
   "source": [
    "wo = [\"我\", \"窩\", \"喔\", \"握\", \"臥\"]\n",
    "wo_per = [0.400, 0.150, 0.090, 0.050, 0.030]"
   ]
  },
  {
   "cell_type": "code",
   "execution_count": 41,
   "metadata": {
    "collapsed": true
   },
   "outputs": [],
   "source": [
    "women = [\"們\", \"門\", \"悶\", \"燜\", \"捫\"]\n",
    "women_per = [\n",
    "    [0.970, 0.001, 0.003, 0.001, 0.001],\n",
    "    [0.001, 0.001, 0.001, 0.001, 0.001],\n",
    "    [0.001, 0.001, 0.001, 0.001, 0.001],\n",
    "    [0.001, 0.001, 0.001, 0.001, 0.001],\n",
    "    [0.001, 0.001, 0.001, 0.001, 0.001]\n",
    "]"
   ]
  },
  {
   "cell_type": "code",
   "execution_count": 42,
   "metadata": {
    "collapsed": true
   },
   "outputs": [],
   "source": [
    "N = 5"
   ]
  },
  {
   "cell_type": "code",
   "execution_count": 43,
   "metadata": {
    "collapsed": true
   },
   "outputs": [],
   "source": [
    "def found_from_oneword(oneword_per):\n",
    "    index = []\n",
    "    values = []\n",
    "    a = np.array(oneword_per)\n",
    "    for v in np.argsort(a)[::-1][:N]:\n",
    "        index.append(v)\n",
    "        values.append(oneword_per[v])\n",
    "    return index, values"
   ]
  },
  {
   "cell_type": "code",
   "execution_count": 122,
   "metadata": {
    "collapsed": true
   },
   "outputs": [],
   "source": [
    "def found_from_twoword(oneword_per, twoword_per):\n",
    "    last = 0\n",
    "    for i in range(len(jin_per)):\n",
    "        current = np.multiply(oneword_per[i], twoword_per[i])\n",
    "        if i == 0:\n",
    "            last = current\n",
    "        else:\n",
    "            last = np.concatenate((last, current), axis = 0)\n",
    "    index = []\n",
    "    values = []\n",
    "    for v in np.argsort(last)[::-1][:N]:\n",
    "        index.append([v / 5, v % 5])\n",
    "        values.append(last[v])\n",
    "    return index, values"
   ]
  },
  {
   "cell_type": "code",
   "execution_count": 145,
   "metadata": {},
   "outputs": [],
   "source": [
    "def predict(word):\n",
    "    if word == \"jin\":\n",
    "        for i in found_from_oneword(jin_per)[0]:\n",
    "#             print(type(i))\n",
    "            print(jin[i])\n",
    "    elif word == \"jintian\":\n",
    "        for i in found_from_twoword(jin_per, jintian_per)[0]:\n",
    "            print(jin[(int)(i[0])] + jintian[(int)(i[1])])\n",
    "    elif word == \"wo\":\n",
    "        for i in found_from_oneword(wo_per)[0]:\n",
    "            print(wo[i])\n",
    "    elif word == \"women\":\n",
    "        for i in found_from_twoword(wo_per, women_per)[0]:\n",
    "            print(wo[(int)(i[0])] + women[(int)(i[1])])\n",
    "    elif word == \"jintianwo\":\n",
    "        index1, values1 = found_from_oneword(wo_per)\n",
    "        index2, values2 = found_from_twoword(jin_per, jintian_per)\n",
    "        last = np.multiply(values1 , values1)\n",
    "        for i in np.argsort(last)[::-1][:N]:\n",
    "            print(jin[(int)(index2[i][0])], jintian[(int)(index2[i][1])], wo[i])\n",
    "    elif word == \"jintianwomen\":\n",
    "        index1, values1 = found_from_twoword(jin_per, jintian_per)\n",
    "        index2, values2 = found_from_twoword(wo_per, women_per)\n",
    "        last = np.multiply(values1, values1)\n",
    "        for i in np.argsort(last)[::-1][:N]:\n",
    "            print(jin[(int)(index1[i][0])], jintian[(int)(index1[i][1])], wo[(int)(index2[i][0])], women[(int)(index2[i][1])])\n",
    "    else:\n",
    "        pass\n",
    "\n"
   ]
  },
  {
   "cell_type": "code",
   "execution_count": 146,
   "metadata": {},
   "outputs": [
    {
     "name": "stdout",
     "output_type": "stream",
     "text": [
      "近\n",
      "斤\n",
      "今\n",
      "金\n",
      "盡\n",
      "今天\n",
      "金田\n",
      "近天\n",
      "近填\n",
      "近田\n",
      "我\n",
      "窩\n",
      "喔\n",
      "握\n",
      "臥\n",
      "我們\n",
      "我悶\n",
      "我門\n",
      "我燜\n",
      "我捫\n",
      "今 天 我\n",
      "金 田 窩\n",
      "近 天 喔\n",
      "近 填 握\n",
      "近 田 臥\n",
      "今 天 我 們\n",
      "金 田 我 悶\n",
      "近 田 我 捫\n",
      "近 填 我 燜\n",
      "近 天 我 門\n"
     ]
    }
   ],
   "source": [
    "if __name__ == \"__main__\":\n",
    "    predict(\"jin\")\n",
    "    predict(\"jintian\")\n",
    "    predict(\"wo\")\n",
    "    predict(\"women\")\n",
    "    predict(\"jintianwo\")\n",
    "    predict(\"jintianwomen\")"
   ]
  },
  {
   "cell_type": "markdown",
   "metadata": {},
   "source": [
    "## SVM"
   ]
  },
  {
   "cell_type": "code",
   "execution_count": 147,
   "metadata": {
    "collapsed": true
   },
   "outputs": [],
   "source": [
    "from sklearn import svm"
   ]
  },
  {
   "cell_type": "code",
   "execution_count": 148,
   "metadata": {
    "collapsed": true
   },
   "outputs": [],
   "source": [
    "## 年齡\n",
    "X = [[34], [33], [32], [31], [30],  [30], [25], [23], [22], [18]]"
   ]
  },
  {
   "cell_type": "code",
   "execution_count": 149,
   "metadata": {
    "collapsed": true
   },
   "outputs": [],
   "source": [
    "## 品質\n",
    "y = [1, 0, 1, 0, 1, 1, 0, 1, 0, 1]"
   ]
  },
  {
   "cell_type": "code",
   "execution_count": 150,
   "metadata": {
    "collapsed": true
   },
   "outputs": [],
   "source": [
    "## 把訓練資料和對應的分類放進分類器中進行訓練\n",
    "## 這裡使用rbf\n",
    "clf = svm.SVC(kernel = \"rbf\").fit(X, y)"
   ]
  },
  {
   "cell_type": "code",
   "execution_count": 152,
   "metadata": {},
   "outputs": [
    {
     "name": "stdout",
     "output_type": "stream",
     "text": [
      "[1]\n"
     ]
    }
   ],
   "source": [
    "## 預測年齡30的人的品質\n",
    "p = [[30]]\n",
    "print(clf.predict(p))\n",
    "##結果是1"
   ]
  },
  {
   "cell_type": "markdown",
   "metadata": {},
   "source": [
    "## 遺傳演算法 \n",
    "#### 背包問題"
   ]
  },
  {
   "cell_type": "code",
   "execution_count": 1,
   "metadata": {
    "collapsed": true
   },
   "outputs": [],
   "source": [
    "##coding = utf-8\n",
    "import random"
   ]
  },
  {
   "cell_type": "code",
   "execution_count": 2,
   "metadata": {
    "collapsed": true
   },
   "outputs": [],
   "source": [
    "##背包問題\n",
    "##物品重量價格\n",
    "X = {\n",
    "    1:[10, 15],\n",
    "    2:[15, 25],\n",
    "    3:[20, 35],\n",
    "    4:[25, 45],\n",
    "    5:[30, 55],\n",
    "    6:[35, 70]\n",
    "}"
   ]
  },
  {
   "cell_type": "code",
   "execution_count": 3,
   "metadata": {
    "collapsed": true
   },
   "outputs": [],
   "source": [
    "## 終止界限\n",
    "FINISHED_LIMIT = 5"
   ]
  },
  {
   "cell_type": "code",
   "execution_count": 4,
   "metadata": {
    "collapsed": true
   },
   "outputs": [],
   "source": [
    "## 重量界限\n",
    "WEIGHT_LIMIT = 80"
   ]
  },
  {
   "cell_type": "code",
   "execution_count": 5,
   "metadata": {
    "collapsed": true
   },
   "outputs": [],
   "source": [
    "## 染色體長度\n",
    "CHROMOSOME_SIZE = 6"
   ]
  },
  {
   "cell_type": "code",
   "execution_count": 6,
   "metadata": {
    "collapsed": true
   },
   "outputs": [],
   "source": [
    "## 遴選次數\n",
    "SELECT_NUMBER = 4"
   ]
  },
  {
   "cell_type": "code",
   "execution_count": 7,
   "metadata": {
    "collapsed": true
   },
   "outputs": [],
   "source": [
    "max_last = 0\n",
    "diff_last = 10000"
   ]
  },
  {
   "cell_type": "code",
   "execution_count": 8,
   "metadata": {},
   "outputs": [],
   "source": [
    "## 收斂條件、判斷退出\n",
    "def is_finished(fitnesses):\n",
    "    global max_last\n",
    "    global diff_last\n",
    "    \n",
    "    max_current = 0\n",
    "    for v in fitnesses:\n",
    "        if v[1] > max_current:\n",
    "            max_current = v[1]\n",
    "            \n",
    "    diff = max_current - max_last\n",
    "    if diff < FINISHED_LIMIT and diff_last < FINISHED_LIMIT:\n",
    "        return True\n",
    "    else:\n",
    "        diff_last = diff\n",
    "        max_last = max_current\n",
    "        return False"
   ]
  },
  {
   "cell_type": "code",
   "execution_count": 9,
   "metadata": {
    "collapsed": true
   },
   "outputs": [],
   "source": [
    "## 初始染色體型態\n",
    "def init():\n",
    "    chromosome_state1 = \"100100\"\n",
    "    chromosome_state2 = \"101010\"\n",
    "    chromosome_state3 = \"010101\"\n",
    "    chromosome_state4 = \"101011\"\n",
    "    chromosome_states = [chromosome_state1, chromosome_state2, chromosome_state3, chromosome_state4]\n",
    "    return chromosome_states"
   ]
  },
  {
   "cell_type": "code",
   "execution_count": 10,
   "metadata": {
    "collapsed": true
   },
   "outputs": [],
   "source": [
    "## 計算適應度\n",
    "def fitness(chromosome_states):\n",
    "    fitnesses = []\n",
    "    for chromosome_state in chromosome_states:\n",
    "        value_sum = 0\n",
    "        weight_sum = 0\n",
    "        for i, v in enumerate(chromosome_state):\n",
    "            if int(v) == 1:\n",
    "                weight_sum += X[i + 1][0]\n",
    "                value_sum += X[i + 1][1]\n",
    "        fitnesses.append([value_sum, weight_sum])\n",
    "    return fitnesses"
   ]
  },
  {
   "cell_type": "code",
   "execution_count": 11,
   "metadata": {
    "collapsed": true
   },
   "outputs": [],
   "source": [
    "## 篩選\n",
    "def my_filter(chromosome_states, fitnesses):\n",
    "    ## 重量大於80被淘汰\n",
    "    index = len(fitnesses) - 1\n",
    "    while index >= 0:\n",
    "        index -= 1\n",
    "        if fitnesses[index][1] > WEIGHT_LIMIT:\n",
    "            chromosome_states.pop(index)\n",
    "            fitnesses.pop(index)\n",
    "    ## 遴選\n",
    "    selected_index = [0] * len(chromosome_states)\n",
    "    for i in range(SELECT_NUMBER):\n",
    "        j = chromosome_states.index(random.choice(chromosome_states))\n",
    "        selected_index[j] += 1\n",
    "    return selected_index"
   ]
  },
  {
   "cell_type": "code",
   "execution_count": 12,
   "metadata": {},
   "outputs": [],
   "source": [
    "## 產生下一代\n",
    "def crossover(chromosome_states, selected_index):\n",
    "    chromosome_states_new = []\n",
    "    index = len(chromosome_states) - 1\n",
    "    while index >= 0:\n",
    "        index -= 1\n",
    "        chromosome_state = chromosome_states.pop(index)\n",
    "        for i in range(selected_index[index]):\n",
    "            chromosome_state_x = random.choice(chromosome_states)\n",
    "            pos = random.choice(range(1, CHROMOSOME_SIZE - 1))\n",
    "            chromosome_states_new.append(chromosome_state[:pos] + chromosome_state_x[pos:])\n",
    "        chromosome_states.insert(index, chromosome_state)\n",
    "    return chromosome_states_new"
   ]
  },
  {
   "cell_type": "code",
   "execution_count": 13,
   "metadata": {
    "scrolled": false
   },
   "outputs": [
    {
     "name": "stdout",
     "output_type": "stream",
     "text": [
      "[[60, 35], [105, 60], [140, 75], [175, 95]]\n",
      "[[120, 65], [130, 70], [130, 70], [45, 25]]\n",
      "[[165, 90], [115, 60], [115, 60], [105, 55]]\n",
      "[[115, 60], [115, 60], [150, 80], [150, 80]]\n",
      "['001101', '001101', '001101', '001101']\n"
     ]
    }
   ],
   "source": [
    "if __name__ == \"__main__\":\n",
    "    ## 初始群體\n",
    "    chromosome_states = init()\n",
    "    n = 100\n",
    "    while n > 0:\n",
    "        n -= 1\n",
    "        ##適應度計算\n",
    "        fitnesses = fitness(chromosome_states)\n",
    "        if is_finished(fitnesses):\n",
    "            break\n",
    "        print(fitnesses)\n",
    "        ## 遴選\n",
    "        selected_index = my_filter(chromosome_states, fitnesses)\n",
    "        \n",
    "        ## 產生下一代\n",
    "        chromosome_states = crossover(chromosome_states, selected_index)\n",
    "    print(chromosome_states)"
   ]
  },
  {
   "cell_type": "markdown",
   "metadata": {},
   "source": [
    "## 極大值問題"
   ]
  },
  {
   "cell_type": "code",
   "execution_count": 45,
   "metadata": {
    "collapsed": true
   },
   "outputs": [],
   "source": [
    "## coding = utf-8\n",
    "import random\n",
    "import math\n",
    "import numpy as np"
   ]
  },
  {
   "cell_type": "code",
   "execution_count": 46,
   "metadata": {
    "collapsed": true
   },
   "outputs": [],
   "source": [
    "##染色體長度\n",
    "CHROMOSOME_SIZE = 15"
   ]
  },
  {
   "cell_type": "code",
   "execution_count": 47,
   "metadata": {
    "collapsed": true
   },
   "outputs": [],
   "source": [
    "## 判斷退出\n",
    "def is_finished(last_three):\n",
    "    s = sorted(last_three)\n",
    "    if s[0] and s[2] - s[0] < 0.01 * s[0]:\n",
    "        return True\n",
    "    else:\n",
    "        return False"
   ]
  },
  {
   "cell_type": "code",
   "execution_count": 48,
   "metadata": {
    "collapsed": true
   },
   "outputs": [],
   "source": [
    "## 初始染色體型態\n",
    "def init():\n",
    "    chromosome_state1 = [\"000000100101001\", \"101010101010101\"]\n",
    "    chromosome_state2 = [\"011000100101100\", \"001100110011001\"]\n",
    "    chromosome_state3 = [\"001000100100101\", \"101010101010101\"]\n",
    "    chromosome_state4 = [\"000110100100100\", \"110011001100110\"]\n",
    "    chromosome_state5 = [\"100000100100101\", \"101010101010101\"]\n",
    "    chromosome_state6 = [\"101000100100100\", \"111100001111000\"]\n",
    "    chromosome_state7 = [\"101010100110100\", \"101010101010101\"]\n",
    "    chromosome_state8 = [\"100110101101000\", \"000011110000111\"]\n",
    "    chromosome_states = [chromosome_state1, chromosome_state2, chromosome_state3, chromosome_state4, \n",
    "                         chromosome_state5, chromosome_state6, chromosome_state7, chromosome_state8]\n",
    "    return chromosome_states"
   ]
  },
  {
   "cell_type": "code",
   "execution_count": 49,
   "metadata": {
    "collapsed": true
   },
   "outputs": [],
   "source": [
    "## 計算適應度\n",
    "def fitness(chromosome_states):\n",
    "    fitnesses = []\n",
    "    for chromosome_state in chromosome_states:\n",
    "        if chromosome_state[0][0] == \"1\":\n",
    "            x = 10 * (-float(int(chromosome_state[0][1:], 2) - 1) / 16384)\n",
    "        else:\n",
    "            x = 10 * (float(int(chromosome_state[0], 2) + 1) / 16384)\n",
    "        if chromosome_state[1][0] == \"1\":\n",
    "            y = 10 * (-float(int(chromosome_state[1][1:], 2) - 1) / 16384)\n",
    "        else:\n",
    "            y = 10 * (float(int(chromosome_state[1], 2) + 1) / 16384)\n",
    "        z = y * math.sin(x) + x * math.cos(y)\n",
    "        \n",
    "        fitnesses.append(z)\n",
    "    return fitnesses"
   ]
  },
  {
   "cell_type": "code",
   "execution_count": 50,
   "metadata": {
    "collapsed": true
   },
   "outputs": [],
   "source": [
    "## 篩選\n",
    "def filter(chromosome_states, fitnesses):\n",
    "    ## top 8 對應的索引值\n",
    "    chromosome_states_new = []\n",
    "    top1_fitness_index = 0\n",
    "    for i in np.argsort(fitnesses)[::-1][:8].tolist():\n",
    "        chromosome_states_new.append(chromosome_states[i])\n",
    "        top1_fitness_index = i\n",
    "    return chromosome_states_new, top1_fitness_index"
   ]
  },
  {
   "cell_type": "code",
   "execution_count": 51,
   "metadata": {
    "collapsed": true
   },
   "outputs": [],
   "source": [
    "## 產生下一代\n",
    "def crossover(chromosome_states):\n",
    "    chromosome_states_new = []\n",
    "    while chromosome_states:\n",
    "        chromosome_state = chromosome_states.pop(0)\n",
    "        for v in chromosome_states:\n",
    "            pos = random.choice(range(8, CHROMOSOME_SIZE - 1))\n",
    "            chromosome_states_new.append([chromosome_state[0][:pos] + v[0][pos:], chromosome_state[1][:pos] + v[1][pos:]])\n",
    "            chromosome_states_new.append([v[0][:pos] + chromosome_state[1][pos:], v[0][:pos] + chromosome_state[1][pos:]])\n",
    "    return chromosome_states_new"
   ]
  },
  {
   "cell_type": "code",
   "execution_count": 52,
   "metadata": {
    "collapsed": true
   },
   "outputs": [],
   "source": [
    "## 基因突變\n",
    "def mutation(chromosome_states):\n",
    "    n = int(5.0 / 100 * len(chromosome_states))\n",
    "    while n > 0:\n",
    "        n -= 1\n",
    "        chromosome_state = random.choice(chromosome_states)\n",
    "        index = chromosome_states.index(chromosome_state)\n",
    "        pos =random.choice(range(len(chromosome_state)))\n",
    "        x = chromosome_state[0][:pos] + str(int(not int(chromosome_state[0][pos]))) + chromosome_state[0][pos+1:]\n",
    "        y = chromosome_state[1][:pos] + str(int(not int(chromosome_state[1][pos]))) + chromosome_state[1][pos+1:]\n",
    "        chromosome_states[index] = [x, y]\n"
   ]
  },
  {
   "cell_type": "code",
   "execution_count": 175,
   "metadata": {},
   "outputs": [
    {
     "name": "stdout",
     "output_type": "stream",
     "text": [
      "[8.974938976350776, 8.993358420730987, 8.908189730287289]\n"
     ]
    }
   ],
   "source": [
    "if __name__ == \"__main__\":\n",
    "    chromosome_states = init()\n",
    "    last_three = [0] * 3\n",
    "    last_num = 0\n",
    "    n = 100\n",
    "    while n > 0:\n",
    "        n -= 1\n",
    "        chromosome_states = crossover(chromosome_states)\n",
    "        mutation(chromosome_states)\n",
    "        fitnesses = fitness(chromosome_states)\n",
    "        chromosome_states, top1_fitness_index = filter(chromosome_states, fitnesses)\n",
    "        last_three[last_num] = fitnesses[top1_fitness_index]\n",
    "        if is_finished(last_three):\n",
    "            break\n",
    "        if last_num >= 2:\n",
    "            last_num = 0\n",
    "        else:\n",
    "            last_num += 1\n",
    "    print(last_three)"
   ]
  },
  {
   "cell_type": "code",
   "execution_count": null,
   "metadata": {
    "collapsed": true
   },
   "outputs": [],
   "source": []
  },
  {
   "cell_type": "code",
   "execution_count": null,
   "metadata": {
    "collapsed": true
   },
   "outputs": [],
   "source": []
  }
 ],
 "metadata": {
  "kernelspec": {
   "display_name": "Python 3",
   "language": "python",
   "name": "python3"
  },
  "language_info": {
   "codemirror_mode": {
    "name": "ipython",
    "version": 3
   },
   "file_extension": ".py",
   "mimetype": "text/x-python",
   "name": "python",
   "nbconvert_exporter": "python",
   "pygments_lexer": "ipython3",
   "version": "3.6.1"
  }
 },
 "nbformat": 4,
 "nbformat_minor": 2
}
